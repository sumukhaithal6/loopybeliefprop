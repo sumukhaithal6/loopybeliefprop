{
 "cells": [
  {
   "cell_type": "code",
   "execution_count": 2,
   "metadata": {},
   "outputs": [],
   "source": [
    "import pomegranate as pg"
   ]
  },
  {
   "cell_type": "code",
   "execution_count": 3,
   "metadata": {},
   "outputs": [],
   "source": [
    "fg=pg.FactorGraph(name='test')"
   ]
  },
  {
   "cell_type": "code",
   "execution_count": 4,
   "metadata": {},
   "outputs": [],
   "source": [
    "x0 = pg.DiscreteDistribution({0: 0.5, 1: 0.5})\n",
    "x1 = pg.DiscreteDistribution({0: 0.5, 1: 0.5})\n",
    "x2 = pg.DiscreteDistribution({0: 0.5, 1: 0.5})\n",
    "x3 = pg.DiscreteDistribution({0: 0.5, 1: 0.5})"
   ]
  },
  {
   "cell_type": "code",
   "execution_count": 5,
   "metadata": {},
   "outputs": [],
   "source": [
    "f0 = pg.DiscreteDistribution({0: 0.3, 1: 0.7})\n",
    "f1 = pg.JointProbabilityTable(\n",
    "    [[0, 0, 0.2], [0, 1, 0.8], [1, 0, 0.7], [1, 1, 0.3]],\n",
    "    [x0,x1])\n",
    "f2 = pg.JointProbabilityTable(\n",
    "    [[0, 0, 0.4], [0, 1, 0.6], [1, 0, 0.3], [1, 1, 0.7]],\n",
    "    [x0,x2])\n",
    "f3 = pg.JointProbabilityTable(\n",
    "    [[0, 0,0, 0.2], [0,0, 1, 0.8], [0,1, 0, 0.3], [0,1, 1, 0.7],[1,0,0, 0.6],[1,0, 1, 0.4],[1,1, 0, 0.7],[1,1, 1, 0.3]],\n",
    "    [x1,x2,x3])"
   ]
  },
  {
   "cell_type": "code",
   "execution_count": 6,
   "metadata": {},
   "outputs": [],
   "source": [
    "s0 = pg.Node(x0, name=\"x0\")\n",
    "s1 = pg.Node(f0, name=\"x0-joint\")\n",
    "\n",
    "s2 = pg.Node(x1, name=\"x1\")\n",
    "s3 = pg.Node(f1, name=\"x1-joint\")\n",
    "\n",
    "s4 = pg.Node(x2, name=\"x2\")\n",
    "s5 = pg.Node(f2, name=\"x2-joint\")\n",
    "\n",
    "s6 = pg.Node(x3, name=\"x3\")\n",
    "s7 = pg.Node(f3, name=\"x3-joint\")"
   ]
  },
  {
   "cell_type": "code",
   "execution_count": 7,
   "metadata": {},
   "outputs": [],
   "source": [
    "fg.add_states(s0,s1,s2,s3,s4,s5,s6,s7)"
   ]
  },
  {
   "cell_type": "code",
   "execution_count": 8,
   "metadata": {},
   "outputs": [],
   "source": [
    "fg.add_edge(s0,s1)\n",
    "fg.add_edge(s2,s3)\n",
    "fg.add_edge(s4,s5)\n",
    "fg.add_edge(s6,s7)\n",
    "fg.add_edge(s0,s3)\n",
    "fg.add_edge(s0,s5)\n",
    "fg.add_edge(s4,s7)\n",
    "fg.add_edge(s2,s7)"
   ]
  },
  {
   "cell_type": "code",
   "execution_count": 9,
   "metadata": {},
   "outputs": [],
   "source": [
    "fg.bake()"
   ]
  },
  {
   "cell_type": "code",
   "execution_count": null,
   "metadata": {},
   "outputs": [],
   "source": [
    "#Note:x0-joint , x1-joint are the factors f0,f1"
   ]
  },
  {
   "cell_type": "code",
   "execution_count": 10,
   "metadata": {},
   "outputs": [
    {
     "data": {
      "image/png": "[encoded data removed]",
      "text/plain": [
       "<Figure size 432x288 with 1 Axes>"
      ]
     },
     "metadata": {
      "needs_background": "light"
     },
     "output_type": "display_data"
    }
   ],
   "source": [
    "fg.plot()"
   ]
  },
  {
   "cell_type": "code",
   "execution_count": 14,
   "metadata": {},
   "outputs": [
    {
     "name": "stdout",
     "output_type": "stream",
     "text": [
      "x0         : {0: 0.3000000000000003, 1: 0.6999999999999996}\n",
      "x0-joint   : {0: 0.5499999999999997, 1: 0.4500000000000003}\n",
      "x1         : {0: 0.33000000000000024, 1: 0.6699999999999999}\n",
      "x1-joint   : {0: 0.4470000000000001, 1: 0.5529999999999999}\n"
     ]
    }
   ],
   "source": [
    "print(\"\\n\".join( \"{:10.10} : {}\".format( state.name, belief.parameters[0] ) for state, belief in zip( fg.states, fg.predict_proba({}, max_iterations=100) ) ))"
   ]
  },
  {
   "cell_type": "code",
   "execution_count": null,
   "metadata": {},
   "outputs": [],
   "source": []
  }
 ],
 "metadata": {
  "kernelspec": {
   "display_name": "Python 3",
   "language": "python",
   "name": "python3"
  },
  "language_info": {
   "codemirror_mode": {
    "name": "ipython",
    "version": 3
   },
   "file_extension": ".py",
   "mimetype": "text/x-python",
   "name": "python",
   "nbconvert_exporter": "python",
   "pygments_lexer": "ipython3",
   "version": "3.7.5"
  }
 },
 "nbformat": 4,
 "nbformat_minor": 2
}
